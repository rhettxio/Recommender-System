{
  "nbformat": 4,
  "nbformat_minor": 0,
  "metadata": {
    "colab": {
      "name": "Collaborative_Filtering_KNN.ipynb",
      "provenance": [],
      "toc_visible": true
    },
    "kernelspec": {
      "name": "python3",
      "display_name": "Python 3"
    }
  },
  "cells": [
    {
      "cell_type": "markdown",
      "metadata": {
        "id": "8ZXHDOcHlrKH"
      },
      "source": [
        "# **KNN based Collaborative Filtering**"
      ]
    },
    {
      "cell_type": "markdown",
      "metadata": {
        "id": "FGXYUnYGm7DL"
      },
      "source": [
        "## **Objective**\n",
        "Build an item-based recommender system for movie recommendation based on the [MovieLens](https://grouplens.org/datasets/movielens/latest/) Datasets.\n",
        "The KNN based collaborate filtering algorithm will be implemented in the system."
      ]
    },
    {
      "cell_type": "code",
      "metadata": {
        "id": "YNV28rY34sCp"
      },
      "source": [
        "import os\n",
        "import time\n",
        "\n",
        "import math\n",
        "import numpy as np\n",
        "import pandas as pd\n",
        "from scipy.sparse import csr_matrix\n",
        "import sklearn\n",
        "from sklearn.neighbors import NearestNeighbors\n",
        "\n",
        "import seaborn as sns\n",
        "import matplotlib.pyplot as plt\n",
        "plt.style.use('ggplot')\n",
        "%matplotlib inline"
      ],
      "execution_count": 93,
      "outputs": []
    },
    {
      "cell_type": "markdown",
      "metadata": {
        "id": "7UbAh6Ehlb93"
      },
      "source": [
        "## **Load Data**\n",
        "\n",
        "The ml-latest dataset can be downloaded [Here](https://grouplens.org/datasets/movielens/latest/), and just load the movies.csv and ratings.csv file. Combine these two files, we are able to get the movie info and the corresponding rating score."
      ]
    },
    {
      "cell_type": "code",
      "metadata": {
        "id": "lIFztasPdKPh"
      },
      "source": [
        "from google.colab import files\n",
        "files.upload()\n",
        "files.upload()"
      ],
      "execution_count": null,
      "outputs": []
    },
    {
      "cell_type": "code",
      "metadata": {
        "id": "Zii5I70gegYW"
      },
      "source": [
        "df_movies = pd.read_csv('movies.csv', usecols=['movieId','title'], \n",
        "                        dtype={'movieId': 'int32', 'title': 'str'})\n",
        "\n",
        "df_ratings = pd.read_csv('ratings.csv', usecols=['userId','movieId','rating'], \n",
        "                         dtype={'userId': 'int32', 'movieId': 'int32', 'rating': 'float32'})"
      ],
      "execution_count": 15,
      "outputs": []
    },
    {
      "cell_type": "code",
      "metadata": {
        "id": "V0W2yTPK2bJ7",
        "outputId": "46ba62c8-d6ce-4d2c-eb20-8daa82e7b618",
        "colab": {
          "base_uri": "https://localhost:8080/"
        }
      },
      "source": [
        "df_movies.info()"
      ],
      "execution_count": 16,
      "outputs": [
        {
          "output_type": "stream",
          "text": [
            "<class 'pandas.core.frame.DataFrame'>\n",
            "RangeIndex: 58098 entries, 0 to 58097\n",
            "Data columns (total 2 columns):\n",
            " #   Column   Non-Null Count  Dtype \n",
            "---  ------   --------------  ----- \n",
            " 0   movieId  58098 non-null  int32 \n",
            " 1   title    58098 non-null  object\n",
            "dtypes: int32(1), object(1)\n",
            "memory usage: 681.0+ KB\n"
          ],
          "name": "stdout"
        }
      ]
    },
    {
      "cell_type": "code",
      "metadata": {
        "id": "tKfkpc7O2sIe",
        "outputId": "6619b74d-897e-4dde-d1e6-0bd5dfb99842",
        "colab": {
          "base_uri": "https://localhost:8080/"
        }
      },
      "source": [
        "df_ratings.info()"
      ],
      "execution_count": 17,
      "outputs": [
        {
          "output_type": "stream",
          "text": [
            "<class 'pandas.core.frame.DataFrame'>\n",
            "RangeIndex: 27753444 entries, 0 to 27753443\n",
            "Data columns (total 3 columns):\n",
            " #   Column   Dtype  \n",
            "---  ------   -----  \n",
            " 0   userId   int32  \n",
            " 1   movieId  int32  \n",
            " 2   rating   float32\n",
            "dtypes: float32(1), int32(2)\n",
            "memory usage: 317.6 MB\n"
          ],
          "name": "stdout"
        }
      ]
    },
    {
      "cell_type": "code",
      "metadata": {
        "id": "9P2Fe9fQ28Yp",
        "outputId": "a458733a-8a42-4923-de3f-d3033481f746",
        "colab": {
          "base_uri": "https://localhost:8080/",
          "height": 204
        }
      },
      "source": [
        "df_movies.head()"
      ],
      "execution_count": 18,
      "outputs": [
        {
          "output_type": "execute_result",
          "data": {
            "text/html": [
              "<div>\n",
              "<style scoped>\n",
              "    .dataframe tbody tr th:only-of-type {\n",
              "        vertical-align: middle;\n",
              "    }\n",
              "\n",
              "    .dataframe tbody tr th {\n",
              "        vertical-align: top;\n",
              "    }\n",
              "\n",
              "    .dataframe thead th {\n",
              "        text-align: right;\n",
              "    }\n",
              "</style>\n",
              "<table border=\"1\" class=\"dataframe\">\n",
              "  <thead>\n",
              "    <tr style=\"text-align: right;\">\n",
              "      <th></th>\n",
              "      <th>movieId</th>\n",
              "      <th>title</th>\n",
              "    </tr>\n",
              "  </thead>\n",
              "  <tbody>\n",
              "    <tr>\n",
              "      <th>0</th>\n",
              "      <td>1</td>\n",
              "      <td>Toy Story (1995)</td>\n",
              "    </tr>\n",
              "    <tr>\n",
              "      <th>1</th>\n",
              "      <td>2</td>\n",
              "      <td>Jumanji (1995)</td>\n",
              "    </tr>\n",
              "    <tr>\n",
              "      <th>2</th>\n",
              "      <td>3</td>\n",
              "      <td>Grumpier Old Men (1995)</td>\n",
              "    </tr>\n",
              "    <tr>\n",
              "      <th>3</th>\n",
              "      <td>4</td>\n",
              "      <td>Waiting to Exhale (1995)</td>\n",
              "    </tr>\n",
              "    <tr>\n",
              "      <th>4</th>\n",
              "      <td>5</td>\n",
              "      <td>Father of the Bride Part II (1995)</td>\n",
              "    </tr>\n",
              "  </tbody>\n",
              "</table>\n",
              "</div>"
            ],
            "text/plain": [
              "   movieId                               title\n",
              "0        1                    Toy Story (1995)\n",
              "1        2                      Jumanji (1995)\n",
              "2        3             Grumpier Old Men (1995)\n",
              "3        4            Waiting to Exhale (1995)\n",
              "4        5  Father of the Bride Part II (1995)"
            ]
          },
          "metadata": {
            "tags": []
          },
          "execution_count": 18
        }
      ]
    },
    {
      "cell_type": "code",
      "metadata": {
        "id": "GD94He5I3QS8",
        "outputId": "f3404678-39ce-42da-83dd-e72511dbe65e",
        "colab": {
          "base_uri": "https://localhost:8080/",
          "height": 204
        }
      },
      "source": [
        "df_ratings.head()"
      ],
      "execution_count": 19,
      "outputs": [
        {
          "output_type": "execute_result",
          "data": {
            "text/html": [
              "<div>\n",
              "<style scoped>\n",
              "    .dataframe tbody tr th:only-of-type {\n",
              "        vertical-align: middle;\n",
              "    }\n",
              "\n",
              "    .dataframe tbody tr th {\n",
              "        vertical-align: top;\n",
              "    }\n",
              "\n",
              "    .dataframe thead th {\n",
              "        text-align: right;\n",
              "    }\n",
              "</style>\n",
              "<table border=\"1\" class=\"dataframe\">\n",
              "  <thead>\n",
              "    <tr style=\"text-align: right;\">\n",
              "      <th></th>\n",
              "      <th>userId</th>\n",
              "      <th>movieId</th>\n",
              "      <th>rating</th>\n",
              "    </tr>\n",
              "  </thead>\n",
              "  <tbody>\n",
              "    <tr>\n",
              "      <th>0</th>\n",
              "      <td>1</td>\n",
              "      <td>307</td>\n",
              "      <td>3.5</td>\n",
              "    </tr>\n",
              "    <tr>\n",
              "      <th>1</th>\n",
              "      <td>1</td>\n",
              "      <td>481</td>\n",
              "      <td>3.5</td>\n",
              "    </tr>\n",
              "    <tr>\n",
              "      <th>2</th>\n",
              "      <td>1</td>\n",
              "      <td>1091</td>\n",
              "      <td>1.5</td>\n",
              "    </tr>\n",
              "    <tr>\n",
              "      <th>3</th>\n",
              "      <td>1</td>\n",
              "      <td>1257</td>\n",
              "      <td>4.5</td>\n",
              "    </tr>\n",
              "    <tr>\n",
              "      <th>4</th>\n",
              "      <td>1</td>\n",
              "      <td>1449</td>\n",
              "      <td>4.5</td>\n",
              "    </tr>\n",
              "  </tbody>\n",
              "</table>\n",
              "</div>"
            ],
            "text/plain": [
              "   userId  movieId  rating\n",
              "0       1      307     3.5\n",
              "1       1      481     3.5\n",
              "2       1     1091     1.5\n",
              "3       1     1257     4.5\n",
              "4       1     1449     4.5"
            ]
          },
          "metadata": {
            "tags": []
          },
          "execution_count": 19
        }
      ]
    },
    {
      "cell_type": "markdown",
      "metadata": {
        "id": "vqFcBPeK3xPZ"
      },
      "source": [
        "Let's see how many unique users and movies in the dataset"
      ]
    },
    {
      "cell_type": "code",
      "metadata": {
        "id": "ShDStmqa3UUZ",
        "outputId": "a5996d01-4f13-4c6b-d988-892968e42cfd",
        "colab": {
          "base_uri": "https://localhost:8080/"
        }
      },
      "source": [
        "num_users = len(df_ratings.userId.unique())\n",
        "num_items = len(df_ratings.movieId.unique())\n",
        "print(\"There are {} unique users and {} unique movies in the dataset\".format(num_users,num_items))"
      ],
      "execution_count": 20,
      "outputs": [
        {
          "output_type": "stream",
          "text": [
            "There are 283228 unique users and 53889 unique movies in the dataset\n"
          ],
          "name": "stdout"
        }
      ]
    },
    {
      "cell_type": "markdown",
      "metadata": {
        "id": "5h55iuLI5ZdI"
      },
      "source": [
        "## **Data Analysis and Clean**\n",
        "Explore more about the data, e.g. the distributions of users and movies of the dataset. From the distribution of users we can understand how many users are frequently rating different movies. From the distribution of movies we are able to know how many movies are frequently rated by different users. Finally, clean the original dataset by eliminating those unfrequently rated movies and less active users so that the model can be trained properly."
      ]
    },
    {
      "cell_type": "markdown",
      "metadata": {
        "id": "W63FmyKb_xCu"
      },
      "source": [
        "### **Histogram of Ratings**\n"
      ]
    },
    {
      "cell_type": "code",
      "metadata": {
        "id": "5dWarHO54I4R",
        "outputId": "84866576-b8ea-48dc-a572-24ea84d27058",
        "colab": {
          "base_uri": "https://localhost:8080/",
          "height": 390
        }
      },
      "source": [
        "df_ratings_cnt_tmp = pd.DataFrame(df_ratings.groupby('rating').size(),columns=['count'])\n",
        "df_ratings_cnt_tmp"
      ],
      "execution_count": 26,
      "outputs": [
        {
          "output_type": "execute_result",
          "data": {
            "text/html": [
              "<div>\n",
              "<style scoped>\n",
              "    .dataframe tbody tr th:only-of-type {\n",
              "        vertical-align: middle;\n",
              "    }\n",
              "\n",
              "    .dataframe tbody tr th {\n",
              "        vertical-align: top;\n",
              "    }\n",
              "\n",
              "    .dataframe thead th {\n",
              "        text-align: right;\n",
              "    }\n",
              "</style>\n",
              "<table border=\"1\" class=\"dataframe\">\n",
              "  <thead>\n",
              "    <tr style=\"text-align: right;\">\n",
              "      <th></th>\n",
              "      <th>count</th>\n",
              "    </tr>\n",
              "    <tr>\n",
              "      <th>rating</th>\n",
              "      <th></th>\n",
              "    </tr>\n",
              "  </thead>\n",
              "  <tbody>\n",
              "    <tr>\n",
              "      <th>0.5</th>\n",
              "      <td>442388</td>\n",
              "    </tr>\n",
              "    <tr>\n",
              "      <th>1.0</th>\n",
              "      <td>886233</td>\n",
              "    </tr>\n",
              "    <tr>\n",
              "      <th>1.5</th>\n",
              "      <td>441354</td>\n",
              "    </tr>\n",
              "    <tr>\n",
              "      <th>2.0</th>\n",
              "      <td>1850627</td>\n",
              "    </tr>\n",
              "    <tr>\n",
              "      <th>2.5</th>\n",
              "      <td>1373419</td>\n",
              "    </tr>\n",
              "    <tr>\n",
              "      <th>3.0</th>\n",
              "      <td>5515668</td>\n",
              "    </tr>\n",
              "    <tr>\n",
              "      <th>3.5</th>\n",
              "      <td>3404360</td>\n",
              "    </tr>\n",
              "    <tr>\n",
              "      <th>4.0</th>\n",
              "      <td>7394710</td>\n",
              "    </tr>\n",
              "    <tr>\n",
              "      <th>4.5</th>\n",
              "      <td>2373550</td>\n",
              "    </tr>\n",
              "    <tr>\n",
              "      <th>5.0</th>\n",
              "      <td>4071135</td>\n",
              "    </tr>\n",
              "  </tbody>\n",
              "</table>\n",
              "</div>"
            ],
            "text/plain": [
              "          count\n",
              "rating         \n",
              "0.5      442388\n",
              "1.0      886233\n",
              "1.5      441354\n",
              "2.0     1850627\n",
              "2.5     1373419\n",
              "3.0     5515668\n",
              "3.5     3404360\n",
              "4.0     7394710\n",
              "4.5     2373550\n",
              "5.0     4071135"
            ]
          },
          "metadata": {
            "tags": []
          },
          "execution_count": 26
        }
      ]
    },
    {
      "cell_type": "code",
      "metadata": {
        "id": "G97MjDFIBgT4",
        "outputId": "82c51646-114e-419f-84e4-ed2c9a23b9af",
        "colab": {
          "base_uri": "https://localhost:8080/",
          "height": 543
        }
      },
      "source": [
        "ax = (df_ratings_cnt_tmp['count'] / df_ratings_cnt_tmp['count'].sum()).reset_index().rename(columns={'rating': 'rating score'}).plot(\n",
        "    x='rating score',\n",
        "    y='count',\n",
        "    kind='bar',\n",
        "    figsize=(12, 8),\n",
        "    title='Count for Each Rating Score (0.5 to 5.0)',\n",
        "    fontsize=12,\n",
        ")\n",
        "ax.set_xlabel(\"movie rating score\")\n",
        "ax.set_ylabel(\"Frequency of ratings\")"
      ],
      "execution_count": 32,
      "outputs": [
        {
          "output_type": "execute_result",
          "data": {
            "text/plain": [
              "Text(0, 0.5, 'Frequency of ratings')"
            ]
          },
          "metadata": {
            "tags": []
          },
          "execution_count": 32
        },
        {
          "output_type": "display_data",
          "data": {
            "image/png": "[encoded data removed]",
            "text/plain": [
              "<Figure size 864x576 with 1 Axes>"
            ]
          },
          "metadata": {
            "tags": [],
            "needs_background": "light"
          }
        }
      ]
    },
    {
      "cell_type": "markdown",
      "metadata": {
        "id": "2mZKKEMtCWSm"
      },
      "source": [
        "Note that among these rated movies, score 4.0 is the most frequency rating, about 27% movies are rated as 4.0."
      ]
    },
    {
      "cell_type": "code",
      "metadata": {
        "id": "awDpgsue4KQu",
        "outputId": "3b68bbc3-e3ad-4b4e-b58b-bea1290cffd6",
        "colab": {
          "base_uri": "https://localhost:8080/"
        }
      },
      "source": [
        "valid_rating = df_ratings_cnt_tmp['count'].sum()\n",
        "total_rating = num_items * num_users\n",
        "print(\"There are {} valid ratings, the total number of rating is {}\".format(valid_rating,total_rating))"
      ],
      "execution_count": 33,
      "outputs": [
        {
          "output_type": "stream",
          "text": [
            "There are 27753444 valid ratings, the total number of rating is 15262873692\n"
          ],
          "name": "stdout"
        }
      ]
    },
    {
      "cell_type": "markdown",
      "metadata": {
        "id": "GklJmWgdArkR"
      },
      "source": [
        "From the number of ratings we know that many movies are not get rated by users, or users are not rating every movies. Since the minimum score of rating is 0.5, if the user did not rate that movie, let's use 0 to represent it."
      ]
    },
    {
      "cell_type": "code",
      "metadata": {
        "id": "asC0P3Yj8Qc0",
        "outputId": "f9c1bd6d-74a8-4bb2-f5f9-33e36640bbcc",
        "colab": {
          "base_uri": "https://localhost:8080/",
          "height": 390
        }
      },
      "source": [
        "rating_zero_cnt = total_rating-valid_rating\n",
        "# append counts of zero rating\n",
        "df_ratings_cnt = df_ratings_cnt_tmp.append(\n",
        "    pd.DataFrame({'count':rating_zero_cnt},index=[0.0]),\n",
        "    verify_integrity=True,\n",
        ").sort_index()\n",
        "df_ratings_cnt"
      ],
      "execution_count": 36,
      "outputs": [
        {
          "output_type": "execute_result",
          "data": {
            "text/html": [
              "<div>\n",
              "<style scoped>\n",
              "    .dataframe tbody tr th:only-of-type {\n",
              "        vertical-align: middle;\n",
              "    }\n",
              "\n",
              "    .dataframe tbody tr th {\n",
              "        vertical-align: top;\n",
              "    }\n",
              "\n",
              "    .dataframe thead th {\n",
              "        text-align: right;\n",
              "    }\n",
              "</style>\n",
              "<table border=\"1\" class=\"dataframe\">\n",
              "  <thead>\n",
              "    <tr style=\"text-align: right;\">\n",
              "      <th></th>\n",
              "      <th>count</th>\n",
              "    </tr>\n",
              "  </thead>\n",
              "  <tbody>\n",
              "    <tr>\n",
              "      <th>0.0</th>\n",
              "      <td>15235120248</td>\n",
              "    </tr>\n",
              "    <tr>\n",
              "      <th>0.5</th>\n",
              "      <td>442388</td>\n",
              "    </tr>\n",
              "    <tr>\n",
              "      <th>1.0</th>\n",
              "      <td>886233</td>\n",
              "    </tr>\n",
              "    <tr>\n",
              "      <th>1.5</th>\n",
              "      <td>441354</td>\n",
              "    </tr>\n",
              "    <tr>\n",
              "      <th>2.0</th>\n",
              "      <td>1850627</td>\n",
              "    </tr>\n",
              "    <tr>\n",
              "      <th>2.5</th>\n",
              "      <td>1373419</td>\n",
              "    </tr>\n",
              "    <tr>\n",
              "      <th>3.0</th>\n",
              "      <td>5515668</td>\n",
              "    </tr>\n",
              "    <tr>\n",
              "      <th>3.5</th>\n",
              "      <td>3404360</td>\n",
              "    </tr>\n",
              "    <tr>\n",
              "      <th>4.0</th>\n",
              "      <td>7394710</td>\n",
              "    </tr>\n",
              "    <tr>\n",
              "      <th>4.5</th>\n",
              "      <td>2373550</td>\n",
              "    </tr>\n",
              "    <tr>\n",
              "      <th>5.0</th>\n",
              "      <td>4071135</td>\n",
              "    </tr>\n",
              "  </tbody>\n",
              "</table>\n",
              "</div>"
            ],
            "text/plain": [
              "           count\n",
              "0.0  15235120248\n",
              "0.5       442388\n",
              "1.0       886233\n",
              "1.5       441354\n",
              "2.0      1850627\n",
              "2.5      1373419\n",
              "3.0      5515668\n",
              "3.5      3404360\n",
              "4.0      7394710\n",
              "4.5      2373550\n",
              "5.0      4071135"
            ]
          },
          "metadata": {
            "tags": []
          },
          "execution_count": 36
        }
      ]
    },
    {
      "cell_type": "markdown",
      "metadata": {
        "id": "028Zsh40EAPU"
      },
      "source": [
        "Noticed that the number of 0 rating is too large compare with others. In order to plot them in a same figure, a logarithmic transform can be utilized."
      ]
    },
    {
      "cell_type": "code",
      "metadata": {
        "id": "O01OREJCC5Vy",
        "outputId": "d7b0c6dd-d312-4357-831f-3c380529fef4",
        "colab": {
          "base_uri": "https://localhost:8080/",
          "height": 390
        }
      },
      "source": [
        "# add log count\n",
        "df_ratings_cnt['log_count'] = np.log(df_ratings_cnt['count'])\n",
        "df_ratings_cnt"
      ],
      "execution_count": 40,
      "outputs": [
        {
          "output_type": "execute_result",
          "data": {
            "text/html": [
              "<div>\n",
              "<style scoped>\n",
              "    .dataframe tbody tr th:only-of-type {\n",
              "        vertical-align: middle;\n",
              "    }\n",
              "\n",
              "    .dataframe tbody tr th {\n",
              "        vertical-align: top;\n",
              "    }\n",
              "\n",
              "    .dataframe thead th {\n",
              "        text-align: right;\n",
              "    }\n",
              "</style>\n",
              "<table border=\"1\" class=\"dataframe\">\n",
              "  <thead>\n",
              "    <tr style=\"text-align: right;\">\n",
              "      <th></th>\n",
              "      <th>count</th>\n",
              "      <th>log_count</th>\n",
              "    </tr>\n",
              "  </thead>\n",
              "  <tbody>\n",
              "    <tr>\n",
              "      <th>0.0</th>\n",
              "      <td>15235120248</td>\n",
              "      <td>23.446869</td>\n",
              "    </tr>\n",
              "    <tr>\n",
              "      <th>0.5</th>\n",
              "      <td>442388</td>\n",
              "      <td>12.999943</td>\n",
              "    </tr>\n",
              "    <tr>\n",
              "      <th>1.0</th>\n",
              "      <td>886233</td>\n",
              "      <td>13.694735</td>\n",
              "    </tr>\n",
              "    <tr>\n",
              "      <th>1.5</th>\n",
              "      <td>441354</td>\n",
              "      <td>12.997603</td>\n",
              "    </tr>\n",
              "    <tr>\n",
              "      <th>2.0</th>\n",
              "      <td>1850627</td>\n",
              "      <td>14.431035</td>\n",
              "    </tr>\n",
              "    <tr>\n",
              "      <th>2.5</th>\n",
              "      <td>1373419</td>\n",
              "      <td>14.132814</td>\n",
              "    </tr>\n",
              "    <tr>\n",
              "      <th>3.0</th>\n",
              "      <td>5515668</td>\n",
              "      <td>15.523103</td>\n",
              "    </tr>\n",
              "    <tr>\n",
              "      <th>3.5</th>\n",
              "      <td>3404360</td>\n",
              "      <td>15.040568</td>\n",
              "    </tr>\n",
              "    <tr>\n",
              "      <th>4.0</th>\n",
              "      <td>7394710</td>\n",
              "      <td>15.816275</td>\n",
              "    </tr>\n",
              "    <tr>\n",
              "      <th>4.5</th>\n",
              "      <td>2373550</td>\n",
              "      <td>14.679897</td>\n",
              "    </tr>\n",
              "    <tr>\n",
              "      <th>5.0</th>\n",
              "      <td>4071135</td>\n",
              "      <td>15.219432</td>\n",
              "    </tr>\n",
              "  </tbody>\n",
              "</table>\n",
              "</div>"
            ],
            "text/plain": [
              "           count  log_count\n",
              "0.0  15235120248  23.446869\n",
              "0.5       442388  12.999943\n",
              "1.0       886233  13.694735\n",
              "1.5       441354  12.997603\n",
              "2.0      1850627  14.431035\n",
              "2.5      1373419  14.132814\n",
              "3.0      5515668  15.523103\n",
              "3.5      3404360  15.040568\n",
              "4.0      7394710  15.816275\n",
              "4.5      2373550  14.679897\n",
              "5.0      4071135  15.219432"
            ]
          },
          "metadata": {
            "tags": []
          },
          "execution_count": 40
        }
      ]
    },
    {
      "cell_type": "code",
      "metadata": {
        "id": "9qic8YhpDKlL",
        "outputId": "64fe83c5-8acb-43cf-d882-16db997a734b",
        "colab": {
          "base_uri": "https://localhost:8080/",
          "height": 543
        }
      },
      "source": [
        "ax = df_ratings_cnt['log_count'].reset_index().rename(columns={'index': 'rating score'}).plot(\n",
        "    x='rating score',\n",
        "    y='log_count',\n",
        "    kind='bar',\n",
        "    figsize=(12, 8),\n",
        "    title='Count for Each Rating Score (in Log Scale)',\n",
        "    fontsize=12,\n",
        ")\n",
        "ax.set_xlabel(\"movie rating score\")\n",
        "ax.set_ylabel(\"number of ratings\")"
      ],
      "execution_count": 42,
      "outputs": [
        {
          "output_type": "execute_result",
          "data": {
            "text/plain": [
              "Text(0, 0.5, 'number of ratings')"
            ]
          },
          "metadata": {
            "tags": []
          },
          "execution_count": 42
        },
        {
          "output_type": "display_data",
          "data": {
            "image/png": "[encoded data removed]",
            "text/plain": [
              "<Figure size 864x576 with 1 Axes>"
            ]
          },
          "metadata": {
            "tags": [],
            "needs_background": "light"
          }
        }
      ]
    },
    {
      "cell_type": "markdown",
      "metadata": {
        "id": "nnZBrTgkJyNl"
      },
      "source": [
        "### **Movie Rating Frequecy Analysis**\n",
        "Now, explore more on how many movies are rated by users and compare the frequency of rated movies."
      ]
    },
    {
      "cell_type": "code",
      "metadata": {
        "id": "4rrptJ0xFDef",
        "outputId": "015530c8-c078-4ff7-be80-5efab3a8deca",
        "colab": {
          "base_uri": "https://localhost:8080/",
          "height": 204
        }
      },
      "source": [
        "df_ratings.head()"
      ],
      "execution_count": 46,
      "outputs": [
        {
          "output_type": "execute_result",
          "data": {
            "text/html": [
              "<div>\n",
              "<style scoped>\n",
              "    .dataframe tbody tr th:only-of-type {\n",
              "        vertical-align: middle;\n",
              "    }\n",
              "\n",
              "    .dataframe tbody tr th {\n",
              "        vertical-align: top;\n",
              "    }\n",
              "\n",
              "    .dataframe thead th {\n",
              "        text-align: right;\n",
              "    }\n",
              "</style>\n",
              "<table border=\"1\" class=\"dataframe\">\n",
              "  <thead>\n",
              "    <tr style=\"text-align: right;\">\n",
              "      <th></th>\n",
              "      <th>userId</th>\n",
              "      <th>movieId</th>\n",
              "      <th>rating</th>\n",
              "    </tr>\n",
              "  </thead>\n",
              "  <tbody>\n",
              "    <tr>\n",
              "      <th>0</th>\n",
              "      <td>1</td>\n",
              "      <td>307</td>\n",
              "      <td>3.5</td>\n",
              "    </tr>\n",
              "    <tr>\n",
              "      <th>1</th>\n",
              "      <td>1</td>\n",
              "      <td>481</td>\n",
              "      <td>3.5</td>\n",
              "    </tr>\n",
              "    <tr>\n",
              "      <th>2</th>\n",
              "      <td>1</td>\n",
              "      <td>1091</td>\n",
              "      <td>1.5</td>\n",
              "    </tr>\n",
              "    <tr>\n",
              "      <th>3</th>\n",
              "      <td>1</td>\n",
              "      <td>1257</td>\n",
              "      <td>4.5</td>\n",
              "    </tr>\n",
              "    <tr>\n",
              "      <th>4</th>\n",
              "      <td>1</td>\n",
              "      <td>1449</td>\n",
              "      <td>4.5</td>\n",
              "    </tr>\n",
              "  </tbody>\n",
              "</table>\n",
              "</div>"
            ],
            "text/plain": [
              "   userId  movieId  rating\n",
              "0       1      307     3.5\n",
              "1       1      481     3.5\n",
              "2       1     1091     1.5\n",
              "3       1     1257     4.5\n",
              "4       1     1449     4.5"
            ]
          },
          "metadata": {
            "tags": []
          },
          "execution_count": 46
        }
      ]
    },
    {
      "cell_type": "code",
      "metadata": {
        "id": "hSsnbzs5Hen7",
        "outputId": "96dd0dde-663f-4498-c5e5-0dd3e37f7ab8",
        "colab": {
          "base_uri": "https://localhost:8080/",
          "height": 235
        }
      },
      "source": [
        "# get rating count of each movie\n",
        "df_movies_rating_cnt = pd.DataFrame({'count':df_ratings.groupby('movieId').size()},columns=['count'])\n",
        "df_movies_rating_cnt.head()"
      ],
      "execution_count": 51,
      "outputs": [
        {
          "output_type": "execute_result",
          "data": {
            "text/html": [
              "<div>\n",
              "<style scoped>\n",
              "    .dataframe tbody tr th:only-of-type {\n",
              "        vertical-align: middle;\n",
              "    }\n",
              "\n",
              "    .dataframe tbody tr th {\n",
              "        vertical-align: top;\n",
              "    }\n",
              "\n",
              "    .dataframe thead th {\n",
              "        text-align: right;\n",
              "    }\n",
              "</style>\n",
              "<table border=\"1\" class=\"dataframe\">\n",
              "  <thead>\n",
              "    <tr style=\"text-align: right;\">\n",
              "      <th></th>\n",
              "      <th>count</th>\n",
              "    </tr>\n",
              "    <tr>\n",
              "      <th>movieId</th>\n",
              "      <th></th>\n",
              "    </tr>\n",
              "  </thead>\n",
              "  <tbody>\n",
              "    <tr>\n",
              "      <th>1</th>\n",
              "      <td>68469</td>\n",
              "    </tr>\n",
              "    <tr>\n",
              "      <th>2</th>\n",
              "      <td>27143</td>\n",
              "    </tr>\n",
              "    <tr>\n",
              "      <th>3</th>\n",
              "      <td>15585</td>\n",
              "    </tr>\n",
              "    <tr>\n",
              "      <th>4</th>\n",
              "      <td>2989</td>\n",
              "    </tr>\n",
              "    <tr>\n",
              "      <th>5</th>\n",
              "      <td>15474</td>\n",
              "    </tr>\n",
              "  </tbody>\n",
              "</table>\n",
              "</div>"
            ],
            "text/plain": [
              "         count\n",
              "movieId       \n",
              "1        68469\n",
              "2        27143\n",
              "3        15585\n",
              "4         2989\n",
              "5        15474"
            ]
          },
          "metadata": {
            "tags": []
          },
          "execution_count": 51
        }
      ]
    },
    {
      "cell_type": "code",
      "metadata": {
        "id": "JkbTaD0qLLgA",
        "outputId": "676fc8a9-37af-4cee-da0d-d4f2313503de",
        "colab": {
          "base_uri": "https://localhost:8080/",
          "height": 520
        }
      },
      "source": [
        "df_movies_rating_cnt.sort_values('count', ascending=False).reset_index(drop=True).plot(\n",
        "    figsize=(12, 8),\n",
        "    title='Rating Frequency of All Movies',\n",
        "    fontsize=12\n",
        ")\n",
        "ax.set_xlabel(\"movie Id\")\n",
        "ax.set_ylabel(\"number of ratings\")"
      ],
      "execution_count": 52,
      "outputs": [
        {
          "output_type": "execute_result",
          "data": {
            "text/plain": [
              "Text(20.20000000000001, 0.5, 'number of ratings')"
            ]
          },
          "metadata": {
            "tags": []
          },
          "execution_count": 52
        },
        {
          "output_type": "display_data",
          "data": {
            "image/png": "[encoded data removed]",
            "text/plain": [
              "<Figure size 864x576 with 1 Axes>"
            ]
          },
          "metadata": {
            "tags": [],
            "needs_background": "light"
          }
        }
      ]
    },
    {
      "cell_type": "markdown",
      "metadata": {
        "id": "Ubn8ey3ONkX_"
      },
      "source": [
        "This distribution plot is a good example that clearly shows the long-tail property in real-world scenario. Only a small portion of items are frequently rated by the users, those items are recognized as popular item, a vast majority items that are not popular, which will be rarely rated in reality, so that the result distribution is highly skewed."
      ]
    },
    {
      "cell_type": "code",
      "metadata": {
        "id": "mMW23R9yMcuf",
        "outputId": "09947d11-90bf-4f05-bef4-ebd1e76d6352",
        "colab": {
          "base_uri": "https://localhost:8080/",
          "height": 537
        }
      },
      "source": [
        "# plot rating frequency of all movies in log scale\n",
        "ax = df_movies_rating_cnt \\\n",
        "    .sort_values('count', ascending=False) \\\n",
        "    .reset_index(drop=True) \\\n",
        "    .plot(\n",
        "        figsize=(12, 8),\n",
        "        title='Rating Frequency of All Movies (in Log Scale)',\n",
        "        fontsize=12,\n",
        "        logy=True\n",
        "    )\n",
        "ax.set_xlabel(\"movie Id\")\n",
        "ax.set_ylabel(\"number of ratings (log scale)\")"
      ],
      "execution_count": 48,
      "outputs": [
        {
          "output_type": "execute_result",
          "data": {
            "text/plain": [
              "Text(0, 0.5, 'number of ratings (log scale)')"
            ]
          },
          "metadata": {
            "tags": []
          },
          "execution_count": 48
        },
        {
          "output_type": "display_data",
          "data": {
            "image/png": "[encoded data removed]",
            "text/plain": [
              "<Figure size 864x576 with 1 Axes>"
            ]
          },
          "metadata": {
            "tags": [],
            "needs_background": "light"
          }
        }
      ]
    },
    {
      "cell_type": "markdown",
      "metadata": {
        "id": "aasimhkAPIEb"
      },
      "source": [
        "The rating distribution in a log-scale shows that there are nearly 10000 out of 58097 items are rated over 100 times and more than 20000 items are rated less than 10 times.\n",
        "<br>\n",
        "Let's see the details by calculating the quantiles of rating count."
      ]
    },
    {
      "cell_type": "code",
      "metadata": {
        "id": "6KhNAeBnO7jr",
        "outputId": "835d3159-4033-47fb-8225-fa13dc45c2eb",
        "colab": {
          "base_uri": "https://localhost:8080/"
        }
      },
      "source": [
        "df_movies_rating_cnt['count'].quantile(np.arange(1, 0.55, -0.05))"
      ],
      "execution_count": 49,
      "outputs": [
        {
          "output_type": "execute_result",
          "data": {
            "text/plain": [
              "1.00    97999.0\n",
              "0.95     1855.0\n",
              "0.90      531.0\n",
              "0.85      205.0\n",
              "0.80       91.0\n",
              "0.75       48.0\n",
              "0.70       28.0\n",
              "0.65       18.0\n",
              "0.60       12.0\n",
              "Name: count, dtype: float64"
            ]
          },
          "metadata": {
            "tags": []
          },
          "execution_count": 49
        }
      ]
    },
    {
      "cell_type": "markdown",
      "metadata": {
        "id": "eNetnDKiz13f"
      },
      "source": [
        "From the quantile analysis, the most rated movie has been rated 97999 times, there are 5% movies have been rated more than 1855 times and 20% movies have been rated more than 91 times. Now, threshold the movies that have more than 50 times rating, which gives us the top 25% (53889/4=13472) movies, and we still have a good amount samples for building up the model, also by dropping out the movies that has fewer user watched makes our training data more reliable so that improve the recommendation quality."
      ]
    },
    {
      "cell_type": "code",
      "metadata": {
        "id": "VZXWKQfGQREo",
        "outputId": "c84e1f84-15b9-4449-a450-44c281f4856c",
        "colab": {
          "base_uri": "https://localhost:8080/"
        }
      },
      "source": [
        "# filter data\n",
        "popularity_thres = 50\n",
        "popular_movies = list(set(df_movies_rating_cnt.query('count >= @popularity_thres').index))\n",
        "len(popular_movies)"
      ],
      "execution_count": 59,
      "outputs": [
        {
          "output_type": "execute_result",
          "data": {
            "text/plain": [
              "13360"
            ]
          },
          "metadata": {
            "tags": []
          },
          "execution_count": 59
        }
      ]
    },
    {
      "cell_type": "markdown",
      "metadata": {
        "id": "ssNovSAy4SC9"
      },
      "source": [
        "There are 13360 movies have more than 50 times rating. Then, we drop the movies in the rating table as well."
      ]
    },
    {
      "cell_type": "code",
      "metadata": {
        "id": "NwURg7O4v45k",
        "outputId": "04e0b82f-75c8-495b-9b83-a5fdfd123f9d",
        "colab": {
          "base_uri": "https://localhost:8080/"
        }
      },
      "source": [
        "df_ratings_drop_movies = df_ratings[df_ratings.movieId.isin(popular_movies)]\n",
        "print('shape of original ratings data: ', df_ratings.shape)\n",
        "print('shape of ratings data after dropping unpopular movies: ', df_ratings_drop_movies.shape)"
      ],
      "execution_count": 60,
      "outputs": [
        {
          "output_type": "stream",
          "text": [
            "shape of original ratings data:  (27753444, 3)\n",
            "shape of ratings data after dropping unpopular movies:  (27430748, 3)\n"
          ],
          "name": "stdout"
        }
      ]
    },
    {
      "cell_type": "markdown",
      "metadata": {
        "id": "Sekdjck35F3l"
      },
      "source": [
        "Note that, after drop 75% movies, we still keep almost same rating dataset as original rating dataset. Next, we do the same for the users, based on the modified dataset (drop the unpopular movies), drop the user which has fewer rating records to improve the model quality."
      ]
    },
    {
      "cell_type": "markdown",
      "metadata": {
        "id": "d0nqKBHkSpdL"
      },
      "source": [
        "### **User activition Analysis**\n",
        "\n",
        "Expore more on how many users have rated moves and compare the rating"
      ]
    },
    {
      "cell_type": "code",
      "metadata": {
        "id": "Ro1vt4bkSXsP",
        "outputId": "f69b7fa6-e7fa-4d3c-e73d-179251c5f9ed",
        "colab": {
          "base_uri": "https://localhost:8080/",
          "height": 204
        }
      },
      "source": [
        "df_ratings_drop_movies.head()"
      ],
      "execution_count": 62,
      "outputs": [
        {
          "output_type": "execute_result",
          "data": {
            "text/html": [
              "<div>\n",
              "<style scoped>\n",
              "    .dataframe tbody tr th:only-of-type {\n",
              "        vertical-align: middle;\n",
              "    }\n",
              "\n",
              "    .dataframe tbody tr th {\n",
              "        vertical-align: top;\n",
              "    }\n",
              "\n",
              "    .dataframe thead th {\n",
              "        text-align: right;\n",
              "    }\n",
              "</style>\n",
              "<table border=\"1\" class=\"dataframe\">\n",
              "  <thead>\n",
              "    <tr style=\"text-align: right;\">\n",
              "      <th></th>\n",
              "      <th>userId</th>\n",
              "      <th>movieId</th>\n",
              "      <th>rating</th>\n",
              "    </tr>\n",
              "  </thead>\n",
              "  <tbody>\n",
              "    <tr>\n",
              "      <th>0</th>\n",
              "      <td>1</td>\n",
              "      <td>307</td>\n",
              "      <td>3.5</td>\n",
              "    </tr>\n",
              "    <tr>\n",
              "      <th>1</th>\n",
              "      <td>1</td>\n",
              "      <td>481</td>\n",
              "      <td>3.5</td>\n",
              "    </tr>\n",
              "    <tr>\n",
              "      <th>2</th>\n",
              "      <td>1</td>\n",
              "      <td>1091</td>\n",
              "      <td>1.5</td>\n",
              "    </tr>\n",
              "    <tr>\n",
              "      <th>3</th>\n",
              "      <td>1</td>\n",
              "      <td>1257</td>\n",
              "      <td>4.5</td>\n",
              "    </tr>\n",
              "    <tr>\n",
              "      <th>4</th>\n",
              "      <td>1</td>\n",
              "      <td>1449</td>\n",
              "      <td>4.5</td>\n",
              "    </tr>\n",
              "  </tbody>\n",
              "</table>\n",
              "</div>"
            ],
            "text/plain": [
              "   userId  movieId  rating\n",
              "0       1      307     3.5\n",
              "1       1      481     3.5\n",
              "2       1     1091     1.5\n",
              "3       1     1257     4.5\n",
              "4       1     1449     4.5"
            ]
          },
          "metadata": {
            "tags": []
          },
          "execution_count": 62
        }
      ]
    },
    {
      "cell_type": "code",
      "metadata": {
        "id": "9ib9FofB1cHL",
        "outputId": "1459c751-22bc-48eb-dd7e-852372d43bc0",
        "colab": {
          "base_uri": "https://localhost:8080/",
          "height": 235
        }
      },
      "source": [
        "# get user count of each movie\n",
        "df_user_rating_cnt = pd.DataFrame({'count':df_ratings_drop_movies.groupby('userId').size()},columns=['count'])\n",
        "df_user_rating_cnt.head()"
      ],
      "execution_count": 63,
      "outputs": [
        {
          "output_type": "execute_result",
          "data": {
            "text/html": [
              "<div>\n",
              "<style scoped>\n",
              "    .dataframe tbody tr th:only-of-type {\n",
              "        vertical-align: middle;\n",
              "    }\n",
              "\n",
              "    .dataframe tbody tr th {\n",
              "        vertical-align: top;\n",
              "    }\n",
              "\n",
              "    .dataframe thead th {\n",
              "        text-align: right;\n",
              "    }\n",
              "</style>\n",
              "<table border=\"1\" class=\"dataframe\">\n",
              "  <thead>\n",
              "    <tr style=\"text-align: right;\">\n",
              "      <th></th>\n",
              "      <th>count</th>\n",
              "    </tr>\n",
              "    <tr>\n",
              "      <th>userId</th>\n",
              "      <th></th>\n",
              "    </tr>\n",
              "  </thead>\n",
              "  <tbody>\n",
              "    <tr>\n",
              "      <th>1</th>\n",
              "      <td>16</td>\n",
              "    </tr>\n",
              "    <tr>\n",
              "      <th>2</th>\n",
              "      <td>15</td>\n",
              "    </tr>\n",
              "    <tr>\n",
              "      <th>3</th>\n",
              "      <td>11</td>\n",
              "    </tr>\n",
              "    <tr>\n",
              "      <th>4</th>\n",
              "      <td>736</td>\n",
              "    </tr>\n",
              "    <tr>\n",
              "      <th>5</th>\n",
              "      <td>72</td>\n",
              "    </tr>\n",
              "  </tbody>\n",
              "</table>\n",
              "</div>"
            ],
            "text/plain": [
              "        count\n",
              "userId       \n",
              "1          16\n",
              "2          15\n",
              "3          11\n",
              "4         736\n",
              "5          72"
            ]
          },
          "metadata": {
            "tags": []
          },
          "execution_count": 63
        }
      ]
    },
    {
      "cell_type": "code",
      "metadata": {
        "id": "3egkNBrf382L",
        "outputId": "c26c89be-f7b8-400b-c2b3-809068b120ef",
        "colab": {
          "base_uri": "https://localhost:8080/",
          "height": 520
        }
      },
      "source": [
        "df_user_rating_cnt.sort_values('count', ascending=False).reset_index(drop=True).plot(\n",
        "    figsize=(12, 8),\n",
        "    title='User Rating Frequency of All Movies',\n",
        "    fontsize=12\n",
        ")\n",
        "ax.set_xlabel(\"user Id\")\n",
        "ax.set_ylabel(\"number of ratings\")"
      ],
      "execution_count": 64,
      "outputs": [
        {
          "output_type": "execute_result",
          "data": {
            "text/plain": [
              "Text(20.20000000000001, 0.5, 'number of ratings')"
            ]
          },
          "metadata": {
            "tags": []
          },
          "execution_count": 64
        },
        {
          "output_type": "display_data",
          "data": {
            "image/png": "[encoded data removed]",
            "text/plain": [
              "<Figure size 864x576 with 1 Axes>"
            ]
          },
          "metadata": {
            "tags": [],
            "needs_background": "light"
          }
        }
      ]
    },
    {
      "cell_type": "code",
      "metadata": {
        "id": "qW3OXTkc584_",
        "outputId": "764f36b7-31d4-44f3-c041-d188b0343721",
        "colab": {
          "base_uri": "https://localhost:8080/",
          "height": 537
        }
      },
      "source": [
        "# plot rating frequency of all movies in log scale\n",
        "ax = df_user_rating_cnt \\\n",
        "    .sort_values('count', ascending=False) \\\n",
        "    .reset_index(drop=True) \\\n",
        "    .plot(\n",
        "        figsize=(12, 8),\n",
        "        title='User Rating Frequency of All Movies (in Log Scale)',\n",
        "        fontsize=12,\n",
        "        logy=True\n",
        "    )\n",
        "ax.set_xlabel(\"user Id\")\n",
        "ax.set_ylabel(\"number of ratings (log scale)\")"
      ],
      "execution_count": 65,
      "outputs": [
        {
          "output_type": "execute_result",
          "data": {
            "text/plain": [
              "Text(0, 0.5, 'number of ratings (log scale)')"
            ]
          },
          "metadata": {
            "tags": []
          },
          "execution_count": 65
        },
        {
          "output_type": "display_data",
          "data": {
            "image/png": "[encoded data removed]",
            "text/plain": [
              "<Figure size 864x576 with 1 Axes>"
            ]
          },
          "metadata": {
            "tags": [],
            "needs_background": "light"
          }
        }
      ]
    },
    {
      "cell_type": "markdown",
      "metadata": {
        "id": "livRrx656gqZ"
      },
      "source": [
        "Same thing happened for the user rating distribution, it is again a long-tail distribution, meaning that only a small amount of user has rated a considerable amount of movies, the majority users only rate few movies or even not rate any movies."
      ]
    },
    {
      "cell_type": "code",
      "metadata": {
        "id": "_QdxBVyq6SWk",
        "outputId": "ae48f236-d089-4893-e274-0878184a1821",
        "colab": {
          "base_uri": "https://localhost:8080/"
        }
      },
      "source": [
        "df_user_rating_cnt['count'].quantile(np.arange(1, 0.55, -0.05))"
      ],
      "execution_count": 66,
      "outputs": [
        {
          "output_type": "execute_result",
          "data": {
            "text/plain": [
              "1.00    9384.0\n",
              "0.95     403.0\n",
              "0.90     239.0\n",
              "0.85     164.0\n",
              "0.80     121.0\n",
              "0.75      94.0\n",
              "0.70      73.0\n",
              "0.65      58.0\n",
              "0.60      47.0\n",
              "Name: count, dtype: float64"
            ]
          },
          "metadata": {
            "tags": []
          },
          "execution_count": 66
        }
      ]
    },
    {
      "cell_type": "markdown",
      "metadata": {
        "id": "DQr3KIum7fbZ"
      },
      "source": [
        "The most rating user has rated 9384 different movies! 5% users rated more than 403 movies and 25% users rated more than 94 movies. Use the threshold for movie ratings, we keep the users that have rated more than 150 movies, that's about 15% users."
      ]
    },
    {
      "cell_type": "code",
      "metadata": {
        "id": "zcrsgy6s7cIB",
        "outputId": "b71ddd90-7191-4158-be24-9ded867787a5",
        "colab": {
          "base_uri": "https://localhost:8080/"
        }
      },
      "source": [
        "# filter data\n",
        "popularity_thres = 150\n",
        "popular_users = list(set(df_user_rating_cnt.query('count >= @popularity_thres').index))\n",
        "len(popular_users)"
      ],
      "execution_count": 67,
      "outputs": [
        {
          "output_type": "execute_result",
          "data": {
            "text/plain": [
              "46658"
            ]
          },
          "metadata": {
            "tags": []
          },
          "execution_count": 67
        }
      ]
    },
    {
      "cell_type": "code",
      "metadata": {
        "id": "IZdRjPnl8RmL",
        "outputId": "bc7dccbb-ffc3-4d95-c94d-812f4c9958e4",
        "colab": {
          "base_uri": "https://localhost:8080/"
        }
      },
      "source": [
        "df_ratings_drop_users = df_ratings_drop_movies[df_ratings_drop_movies.userId.isin(popular_users)]\n",
        "print('shape of original ratings data: ', df_ratings.shape)\n",
        "print('shape of ratings data after dropping unpopular movies and inactive users: ', df_ratings_drop_users.shape)"
      ],
      "execution_count": 68,
      "outputs": [
        {
          "output_type": "stream",
          "text": [
            "shape of original ratings data:  (27753444, 3)\n",
            "shape of ratings data after dropping unpopular movies and inactive users:  (18672534, 3)\n"
          ],
          "name": "stdout"
        }
      ]
    },
    {
      "cell_type": "markdown",
      "metadata": {
        "id": "0uXmXOF4-Tb8"
      },
      "source": [
        "## **Train KNN model for item-based collaborative filtering**\n",
        "\n",
        "The original dataset has already been cleaned according to the movies rating frequnecy analysis and user activity analysis. Then a KNN based colaborative filtering model can be built by using the cleaned dataset. "
      ]
    },
    {
      "cell_type": "code",
      "metadata": {
        "id": "c4cgzAwy_MEN",
        "outputId": "213b99b8-746d-45cc-8519-61932ad07773",
        "colab": {
          "base_uri": "https://localhost:8080/",
          "height": 204
        }
      },
      "source": [
        "df_ratings_drop_users.head()"
      ],
      "execution_count": 76,
      "outputs": [
        {
          "output_type": "execute_result",
          "data": {
            "text/html": [
              "<div>\n",
              "<style scoped>\n",
              "    .dataframe tbody tr th:only-of-type {\n",
              "        vertical-align: middle;\n",
              "    }\n",
              "\n",
              "    .dataframe tbody tr th {\n",
              "        vertical-align: top;\n",
              "    }\n",
              "\n",
              "    .dataframe thead th {\n",
              "        text-align: right;\n",
              "    }\n",
              "</style>\n",
              "<table border=\"1\" class=\"dataframe\">\n",
              "  <thead>\n",
              "    <tr style=\"text-align: right;\">\n",
              "      <th></th>\n",
              "      <th>userId</th>\n",
              "      <th>movieId</th>\n",
              "      <th>rating</th>\n",
              "    </tr>\n",
              "  </thead>\n",
              "  <tbody>\n",
              "    <tr>\n",
              "      <th>42</th>\n",
              "      <td>4</td>\n",
              "      <td>1</td>\n",
              "      <td>4.0</td>\n",
              "    </tr>\n",
              "    <tr>\n",
              "      <th>43</th>\n",
              "      <td>4</td>\n",
              "      <td>2</td>\n",
              "      <td>4.0</td>\n",
              "    </tr>\n",
              "    <tr>\n",
              "      <th>44</th>\n",
              "      <td>4</td>\n",
              "      <td>5</td>\n",
              "      <td>2.0</td>\n",
              "    </tr>\n",
              "    <tr>\n",
              "      <th>45</th>\n",
              "      <td>4</td>\n",
              "      <td>6</td>\n",
              "      <td>4.5</td>\n",
              "    </tr>\n",
              "    <tr>\n",
              "      <th>46</th>\n",
              "      <td>4</td>\n",
              "      <td>10</td>\n",
              "      <td>4.0</td>\n",
              "    </tr>\n",
              "  </tbody>\n",
              "</table>\n",
              "</div>"
            ],
            "text/plain": [
              "    userId  movieId  rating\n",
              "42       4        1     4.0\n",
              "43       4        2     4.0\n",
              "44       4        5     2.0\n",
              "45       4        6     4.5\n",
              "46       4       10     4.0"
            ]
          },
          "metadata": {
            "tags": []
          },
          "execution_count": 76
        }
      ]
    },
    {
      "cell_type": "code",
      "metadata": {
        "id": "9DJ-UYmyJRSj",
        "outputId": "fd038244-fdbc-4232-98f7-3d62c077dc81",
        "colab": {
          "base_uri": "https://localhost:8080/"
        }
      },
      "source": [
        "df_ratings_drop_users.shape"
      ],
      "execution_count": 75,
      "outputs": [
        {
          "output_type": "execute_result",
          "data": {
            "text/plain": [
              "(18672534, 3)"
            ]
          },
          "metadata": {
            "tags": []
          },
          "execution_count": 75
        }
      ]
    },
    {
      "cell_type": "code",
      "metadata": {
        "id": "9pjU8O0v9FYF"
      },
      "source": [
        "# pivot and create movie-user matrix\n",
        "movie_user_mat = df_ratings_drop_users.pivot(index='movieId', columns='userId', values='rating').fillna(0)\n",
        "# create mapper from movie title to index\n",
        "movie_to_idx = {\n",
        "    movie: i for i, movie in \n",
        "    enumerate(list(df_movies.set_index('movieId').loc[movie_user_mat.index].title))\n",
        "}\n",
        "# transform matrix to scipy sparse matrix\n",
        "movie_user_mat_sparse = csr_matrix(movie_user_mat.values)"
      ],
      "execution_count": 77,
      "outputs": []
    },
    {
      "cell_type": "code",
      "metadata": {
        "id": "XcW9D5uL54xh",
        "outputId": "9ec056b8-a966-42e8-a718-9c86d94cc60e",
        "colab": {
          "base_uri": "https://localhost:8080/",
          "height": 235
        }
      },
      "source": [
        "movie_user_mat[movie_user_mat.columns[:10]].head()"
      ],
      "execution_count": 80,
      "outputs": [
        {
          "output_type": "execute_result",
          "data": {
            "text/html": [
              "<div>\n",
              "<style scoped>\n",
              "    .dataframe tbody tr th:only-of-type {\n",
              "        vertical-align: middle;\n",
              "    }\n",
              "\n",
              "    .dataframe tbody tr th {\n",
              "        vertical-align: top;\n",
              "    }\n",
              "\n",
              "    .dataframe thead th {\n",
              "        text-align: right;\n",
              "    }\n",
              "</style>\n",
              "<table border=\"1\" class=\"dataframe\">\n",
              "  <thead>\n",
              "    <tr style=\"text-align: right;\">\n",
              "      <th>userId</th>\n",
              "      <th>4</th>\n",
              "      <th>14</th>\n",
              "      <th>15</th>\n",
              "      <th>19</th>\n",
              "      <th>42</th>\n",
              "      <th>43</th>\n",
              "      <th>48</th>\n",
              "      <th>51</th>\n",
              "      <th>55</th>\n",
              "      <th>56</th>\n",
              "    </tr>\n",
              "    <tr>\n",
              "      <th>movieId</th>\n",
              "      <th></th>\n",
              "      <th></th>\n",
              "      <th></th>\n",
              "      <th></th>\n",
              "      <th></th>\n",
              "      <th></th>\n",
              "      <th></th>\n",
              "      <th></th>\n",
              "      <th></th>\n",
              "      <th></th>\n",
              "    </tr>\n",
              "  </thead>\n",
              "  <tbody>\n",
              "    <tr>\n",
              "      <th>1</th>\n",
              "      <td>4.0</td>\n",
              "      <td>4.5</td>\n",
              "      <td>4.0</td>\n",
              "      <td>0.0</td>\n",
              "      <td>4.0</td>\n",
              "      <td>5.0</td>\n",
              "      <td>0.0</td>\n",
              "      <td>4.0</td>\n",
              "      <td>5.0</td>\n",
              "      <td>2.5</td>\n",
              "    </tr>\n",
              "    <tr>\n",
              "      <th>2</th>\n",
              "      <td>4.0</td>\n",
              "      <td>4.0</td>\n",
              "      <td>0.0</td>\n",
              "      <td>0.0</td>\n",
              "      <td>3.0</td>\n",
              "      <td>0.0</td>\n",
              "      <td>0.0</td>\n",
              "      <td>3.0</td>\n",
              "      <td>0.0</td>\n",
              "      <td>3.5</td>\n",
              "    </tr>\n",
              "    <tr>\n",
              "      <th>3</th>\n",
              "      <td>0.0</td>\n",
              "      <td>0.0</td>\n",
              "      <td>0.0</td>\n",
              "      <td>4.0</td>\n",
              "      <td>0.0</td>\n",
              "      <td>0.0</td>\n",
              "      <td>0.0</td>\n",
              "      <td>4.0</td>\n",
              "      <td>0.0</td>\n",
              "      <td>0.0</td>\n",
              "    </tr>\n",
              "    <tr>\n",
              "      <th>4</th>\n",
              "      <td>0.0</td>\n",
              "      <td>0.0</td>\n",
              "      <td>0.0</td>\n",
              "      <td>0.0</td>\n",
              "      <td>0.0</td>\n",
              "      <td>0.0</td>\n",
              "      <td>0.0</td>\n",
              "      <td>0.0</td>\n",
              "      <td>0.0</td>\n",
              "      <td>0.0</td>\n",
              "    </tr>\n",
              "    <tr>\n",
              "      <th>5</th>\n",
              "      <td>2.0</td>\n",
              "      <td>0.0</td>\n",
              "      <td>0.0</td>\n",
              "      <td>0.0</td>\n",
              "      <td>0.0</td>\n",
              "      <td>0.0</td>\n",
              "      <td>0.0</td>\n",
              "      <td>0.0</td>\n",
              "      <td>0.0</td>\n",
              "      <td>0.0</td>\n",
              "    </tr>\n",
              "  </tbody>\n",
              "</table>\n",
              "</div>"
            ],
            "text/plain": [
              "userId    4    14   15   19   42   43   48   51   55   56\n",
              "movieId                                                  \n",
              "1        4.0  4.5  4.0  0.0  4.0  5.0  0.0  4.0  5.0  2.5\n",
              "2        4.0  4.0  0.0  0.0  3.0  0.0  0.0  3.0  0.0  3.5\n",
              "3        0.0  0.0  0.0  4.0  0.0  0.0  0.0  4.0  0.0  0.0\n",
              "4        0.0  0.0  0.0  0.0  0.0  0.0  0.0  0.0  0.0  0.0\n",
              "5        2.0  0.0  0.0  0.0  0.0  0.0  0.0  0.0  0.0  0.0"
            ]
          },
          "metadata": {
            "tags": []
          },
          "execution_count": 80
        }
      ]
    },
    {
      "cell_type": "code",
      "metadata": {
        "id": "Fe7_tIf9IgOK",
        "outputId": "d8d01280-b6d6-460b-a1a1-7a2e3de2cfc7",
        "colab": {
          "base_uri": "https://localhost:8080/"
        }
      },
      "source": [
        "# calcuate total number of entries in the movie-user matrix\n",
        "num_entries = movie_user_mat.shape[0] * movie_user_mat.shape[1]\n",
        "# calculate total number of entries with zero values\n",
        "num_zeros = (movie_user_mat==0).sum(axis=1).sum()\n",
        "# calculate ratio of number of zeros to number of entries\n",
        "ratio_zeros = num_zeros / num_entries\n",
        "print('There is about {:.2%} of ratings in our data is missing'.format(ratio_zeros))"
      ],
      "execution_count": 104,
      "outputs": [
        {
          "output_type": "stream",
          "text": [
            "There is about 97.00% of ratings in our data is missing\n"
          ],
          "name": "stdout"
        }
      ]
    },
    {
      "cell_type": "markdown",
      "metadata": {
        "id": "5D_ayrY_8j-y"
      },
      "source": [
        "Since the dimensionality is pretty high, once we build a KNN model based on a high dimensional dataset, either we should reduce the dimensionality or we should change the metric function, otherwise it will encounter a curse of dimensionality. By default the KNN from scikit-learn package has the metric of minkowski (similar to Euclidean distance when dimention = 2), which should be changed to cosine, the number of neighbor is set to be 20."
      ]
    },
    {
      "cell_type": "code",
      "metadata": {
        "id": "PoNdZ1nbABoa",
        "outputId": "9b9c0322-f711-4c0f-cfb0-dd6d967e8c67",
        "colab": {
          "base_uri": "https://localhost:8080/"
        }
      },
      "source": [
        "sorted(sklearn.neighbors.VALID_METRICS['brute'])"
      ],
      "execution_count": 94,
      "outputs": [
        {
          "output_type": "execute_result",
          "data": {
            "text/plain": [
              "['braycurtis',\n",
              " 'canberra',\n",
              " 'chebyshev',\n",
              " 'cityblock',\n",
              " 'correlation',\n",
              " 'cosine',\n",
              " 'cosine',\n",
              " 'dice',\n",
              " 'euclidean',\n",
              " 'hamming',\n",
              " 'haversine',\n",
              " 'jaccard',\n",
              " 'kulsinski',\n",
              " 'l1',\n",
              " 'l2',\n",
              " 'mahalanobis',\n",
              " 'manhattan',\n",
              " 'matching',\n",
              " 'minkowski',\n",
              " 'nan_euclidean',\n",
              " 'precomputed',\n",
              " 'rogerstanimoto',\n",
              " 'russellrao',\n",
              " 'seuclidean',\n",
              " 'sokalmichener',\n",
              " 'sokalsneath',\n",
              " 'sqeuclidean',\n",
              " 'wminkowski',\n",
              " 'yule']"
            ]
          },
          "metadata": {
            "tags": []
          },
          "execution_count": 94
        }
      ]
    },
    {
      "cell_type": "code",
      "metadata": {
        "id": "1SjqLocdBdmn",
        "outputId": "851d34ab-b7a5-497f-de55-a6be56912b9d",
        "colab": {
          "base_uri": "https://localhost:8080/"
        }
      },
      "source": [
        "%env JOBLIB_TEMP_FOLDER=/tmp # if running out of the shared memory \n",
        "# define model\n",
        "model_knn = NearestNeighbors(metric='cosine', algorithm='brute', n_neighbors=20, n_jobs=-1)\n",
        "# fit\n",
        "model_knn.fit(movie_user_mat_sparse)"
      ],
      "execution_count": 95,
      "outputs": [
        {
          "output_type": "stream",
          "text": [
            "env: JOBLIB_TEMP_FOLDER=/tmp # if running out of the shared memory\n"
          ],
          "name": "stdout"
        },
        {
          "output_type": "execute_result",
          "data": {
            "text/plain": [
              "NearestNeighbors(algorithm='brute', leaf_size=30, metric='cosine',\n",
              "                 metric_params=None, n_jobs=-1, n_neighbors=20, p=2,\n",
              "                 radius=1.0)"
            ]
          },
          "metadata": {
            "tags": []
          },
          "execution_count": 95
        }
      ]
    },
    {
      "cell_type": "code",
      "metadata": {
        "id": "7KM-9wzBmvIK",
        "outputId": "46778184-483b-48dd-e099-ddcf034a2640",
        "colab": {
          "base_uri": "https://localhost:8080/"
        }
      },
      "source": [
        "!pip3 install fuzzywuzzy\n",
        "!pip3 install python-Levenshtein"
      ],
      "execution_count": 96,
      "outputs": [
        {
          "output_type": "stream",
          "text": [
            "Collecting fuzzywuzzy\n",
            "  Downloading https://files.pythonhosted.org/packages/43/ff/74f23998ad2f93b945c0309f825be92e04e0348e062026998b5eefef4c33/fuzzywuzzy-0.18.0-py2.py3-none-any.whl\n",
            "Installing collected packages: fuzzywuzzy\n",
            "Successfully installed fuzzywuzzy-0.18.0\n",
            "Collecting python-Levenshtein\n",
            "\u001b[?25l  Downloading https://files.pythonhosted.org/packages/42/a9/d1785c85ebf9b7dfacd08938dd028209c34a0ea3b1bcdb895208bd40a67d/python-Levenshtein-0.12.0.tar.gz (48kB)\n",
            "\u001b[K     |████████████████████████████████| 51kB 3.8MB/s \n",
            "\u001b[?25hRequirement already satisfied: setuptools in /usr/local/lib/python3.6/dist-packages (from python-Levenshtein) (50.3.2)\n",
            "Building wheels for collected packages: python-Levenshtein\n",
            "  Building wheel for python-Levenshtein (setup.py) ... \u001b[?25l\u001b[?25hdone\n",
            "  Created wheel for python-Levenshtein: filename=python_Levenshtein-0.12.0-cp36-cp36m-linux_x86_64.whl size=144788 sha256=152de303764c4c3a0cc2bd7befd77b8dc8fd923b1a86dc88873215e1967abee4\n",
            "  Stored in directory: /root/.cache/pip/wheels/de/c2/93/660fd5f7559049268ad2dc6d81c4e39e9e36518766eaf7e342\n",
            "Successfully built python-Levenshtein\n",
            "Installing collected packages: python-Levenshtein\n",
            "Successfully installed python-Levenshtein-0.12.0\n"
          ],
          "name": "stdout"
        }
      ]
    },
    {
      "cell_type": "markdown",
      "metadata": {
        "id": "c-JNZ8ttBQT7"
      },
      "source": [
        "Use the fuzzywuzzy package to find the similarities of movies to a given movie name. For example, input movie Iron Man, it will search the movie dataset and find the most match result."
      ]
    },
    {
      "cell_type": "code",
      "metadata": {
        "id": "cb4dgjLPpbiz"
      },
      "source": [
        "# utils import\n",
        "from fuzzywuzzy import fuzz"
      ],
      "execution_count": 99,
      "outputs": []
    },
    {
      "cell_type": "code",
      "metadata": {
        "id": "YmspmIn2fliT"
      },
      "source": [
        "def fuzzy_matching(mapper, fav_movie, verbose=True):\n",
        "    \"\"\"\n",
        "    return the index of closest match via fuzzy ratio. If no match found, return None\n",
        "    \n",
        "    Parameters\n",
        "    ----------    \n",
        "    mapper: dict, map movie title name to index of the movie in data\n",
        "\n",
        "    fav_movie: str, name of user input movie\n",
        "    \n",
        "    verbose: bool, print log if True\n",
        "\n",
        "    Return\n",
        "    ------\n",
        "    index of the closest match\n",
        "    \"\"\"\n",
        "    match_tuple = []\n",
        "    # get match\n",
        "    for title, idx in mapper.items():\n",
        "        ratio = fuzz.ratio(title.lower(), fav_movie.lower())\n",
        "        if ratio >= 60:\n",
        "            match_tuple.append((title, idx, ratio))\n",
        "    # sort according to the ratio, order by descending order\n",
        "    match_tuple = sorted(match_tuple, key=lambda x: x[2], reverse=True)\n",
        "    if not match_tuple:\n",
        "        print('Oops! No match is found')\n",
        "        return\n",
        "    if verbose:\n",
        "        print('Found possible matches in our database: {0}\\n'.format([x[0] for x in match_tuple]))\n",
        "    return match_tuple[0][1]\n"
      ],
      "execution_count": 100,
      "outputs": []
    },
    {
      "cell_type": "markdown",
      "metadata": {
        "id": "dAkln0xVDNMU"
      },
      "source": [
        "Find the similar movies of Iron Man"
      ]
    },
    {
      "cell_type": "code",
      "metadata": {
        "id": "xQ2lgQWUq4On",
        "outputId": "5a7b288f-40e7-47f8-adf8-a184af68da10",
        "colab": {
          "base_uri": "https://localhost:8080/"
        }
      },
      "source": [
        "idx = fuzzy_matching(mapper=movie_to_idx, fav_movie='Iron Man', verbose=True)\n",
        "idx"
      ],
      "execution_count": 101,
      "outputs": [
        {
          "output_type": "stream",
          "text": [
            "Found possible matches in our database: ['Iron Man (2008)', 'Iron Man 2 (2010)', 'Iron Man 3 (2013)']\n",
            "\n"
          ],
          "name": "stdout"
        },
        {
          "output_type": "execute_result",
          "data": {
            "text/plain": [
              "9295"
            ]
          },
          "metadata": {
            "tags": []
          },
          "execution_count": 101
        }
      ]
    },
    {
      "cell_type": "code",
      "metadata": {
        "id": "kmNGxzXQj7fh"
      },
      "source": [
        "def make_recommendation(model_knn, data, mapper, fav_movie, n_recommendations):\n",
        "    \"\"\"\n",
        "    return top n similar movie recommendations based on user's input movie\n",
        "\n",
        "\n",
        "    Parameters\n",
        "    ----------\n",
        "    model_knn: sklearn model, knn model\n",
        "\n",
        "    data: movie-user matrix\n",
        "\n",
        "    mapper: dict, map movie title name to index of the movie in data\n",
        "\n",
        "    fav_movie: str, name of user input movie\n",
        "\n",
        "    n_recommendations: int, top n recommendations\n",
        "\n",
        "    Return\n",
        "    ------\n",
        "    list of top n similar movie recommendations\n",
        "    \"\"\"\n",
        "    # fit\n",
        "    model_knn.fit(data)\n",
        "    # get input movie index\n",
        "    print('You have input movie:', fav_movie)\n",
        "    idx = fuzzy_matching(mapper, fav_movie, verbose=True)\n",
        "    # inference\n",
        "    print('Recommendation system start to make inference')\n",
        "    print('......\\n')\n",
        "    distances, indices = model_knn.kneighbors(data[idx], n_neighbors=n_recommendations+1)\n",
        "    # get list of raw idx and distance of recommendations and sort on the distance according to descending order\n",
        "    raw_recommends = \\\n",
        "        sorted(list(zip(indices.squeeze().tolist(), distances.squeeze().tolist())), key=lambda x: x[1])[:0:-1] # drop the first recommendation, since it is the input movie\n",
        "    # get reverse mapper (movie index to movie title)\n",
        "    reverse_mapper = {v: k for k, v in mapper.items()}\n",
        "    # print recommendations\n",
        "    print('Recommendations for {}:'.format(fav_movie))\n",
        "    for i, (idx, dist) in enumerate(raw_recommends):\n",
        "        print('{0}: {1}, with distance of {2}'.format(i+1, reverse_mapper[idx], dist))"
      ],
      "execution_count": 102,
      "outputs": []
    },
    {
      "cell_type": "code",
      "metadata": {
        "id": "zRfBOFB2lQa4",
        "outputId": "05c67ac3-9813-4837-f13c-bebc536315f5",
        "colab": {
          "base_uri": "https://localhost:8080/"
        }
      },
      "source": [
        "my_favorite = 'Iron Man'\n",
        "\n",
        "make_recommendation(\n",
        "    model_knn=model_knn,\n",
        "    data=movie_user_mat_sparse,\n",
        "    fav_movie=my_favorite,\n",
        "    mapper=movie_to_idx,\n",
        "    n_recommendations=10)"
      ],
      "execution_count": 103,
      "outputs": [
        {
          "output_type": "stream",
          "text": [
            "You have input movie: Iron Man\n",
            "Found possible matches in our database: ['Iron Man (2008)', 'Iron Man 2 (2010)', 'Iron Man 3 (2013)']\n",
            "\n",
            "Recommendation system start to make inference\n",
            "......\n",
            "\n",
            "Recommendations for Iron Man:\n",
            "1: Up (2009), with distance of 0.3350299596786499\n",
            "2: Sherlock Holmes (2009), with distance of 0.33150821924209595\n",
            "3: Batman Begins (2005), with distance of 0.2976230978965759\n",
            "4: Star Trek (2009), with distance of 0.2970428466796875\n",
            "5: Avengers, The (2012), with distance of 0.2968347668647766\n",
            "6: Avatar (2009), with distance of 0.29315418004989624\n",
            "7: Iron Man 2 (2010), with distance of 0.2907562255859375\n",
            "8: Inception (2010), with distance of 0.2900804877281189\n",
            "9: WALL·E (2008), with distance of 0.2871159315109253\n",
            "10: Dark Knight, The (2008), with distance of 0.2037333846092224\n"
          ],
          "name": "stdout"
        }
      ]
    },
    {
      "cell_type": "markdown",
      "metadata": {
        "id": "yHoEAxWcJBsK"
      },
      "source": [
        "## **Summary**\n",
        "\n",
        "In this project, a KNN based colaborative filtering model is built for item based recommender system. The model will generate recommended movies according to the input movie names. However, there are shortcommings of this item based colaborative filtering. Once the items are new or less rated, the model will not able to give recommandation to them, which meaning that, it is not new item friendly, the recommender system most likely will recommand those popular items. The algorithm can be improved by using a ALS algorithm in the recommender system, which will be showed in next project."
      ]
    }
  ]
}